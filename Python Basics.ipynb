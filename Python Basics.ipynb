{
 "cells": [
  {
   "cell_type": "markdown",
   "metadata": {},
   "source": [
    "# Homework 1: Python Basics"
   ]
  },
  {
   "cell_type": "markdown",
   "metadata": {},
   "source": [
    "## Task 0 (0.5 point)\n",
    "### Completed by:  ***WingKi Yu***"
   ]
  },
  {
   "cell_type": "markdown",
   "metadata": {},
   "source": [
    "## GENERAL INSTRUCTIONS:\n",
    "\n",
    "In this exercise, we will complete tasks to help you get more practice with writing code using standard Python. Please answer the questions for each task below. Some tasks have multiple questions - please be sure to answer all. \n",
    "\n",
    "You may write all answers in one cell or in separate cells. Use **comments** to annotate different answers (copy paste my comment if you like) so it is clear which code is asnwering which question. \n",
    "\n",
    "If you need to produce multiple outputs from one cell, you can do so by adding **print()** to each outout you want to produce. Without print only the last output will show. \n",
    "\n",
    "***YOU WILL NOT GET POINTS FOR OUTPUTS THAT ARE NOT VISIBLE.***\n",
    "\n",
    "I also use exercises as a way to teach new material. Some questions introduce you to new functions and ask you to use them.\n"
   ]
  },
  {
   "cell_type": "markdown",
   "metadata": {},
   "source": [
    "## Task 1. (2 points)\n",
    "\n",
    "**What is the type of the following variables - a , b, and e? Please use a function.**\n",
    "\n",
    "**What is the result of testing f?  Write down your explanation in a comment in the answer cell.** "
   ]
  },
  {
   "cell_type": "code",
   "execution_count": 1,
   "metadata": {},
   "outputs": [
    {
     "data": {
      "text/plain": [
       "str"
      ]
     },
     "execution_count": 1,
     "metadata": {},
     "output_type": "execute_result"
    }
   ],
   "source": [
    "a = 'Alayna'\n",
    "\n",
    "type(a) # str"
   ]
  },
  {
   "cell_type": "code",
   "execution_count": 2,
   "metadata": {},
   "outputs": [
    {
     "data": {
      "text/plain": [
       "str"
      ]
     },
     "execution_count": 2,
     "metadata": {},
     "output_type": "execute_result"
    }
   ],
   "source": [
    "b = \"True\"\n",
    "\n",
    "type(b) # str"
   ]
  },
  {
   "cell_type": "code",
   "execution_count": 3,
   "metadata": {},
   "outputs": [
    {
     "data": {
      "text/plain": [
       "float"
      ]
     },
     "execution_count": 3,
     "metadata": {},
     "output_type": "execute_result"
    }
   ],
   "source": [
    "c = 10.5; d = 2\n",
    "e = c / d\n",
    "\n",
    "type(e) # float"
   ]
  },
  {
   "cell_type": "code",
   "execution_count": 4,
   "metadata": {},
   "outputs": [
    {
     "data": {
      "text/plain": [
       "False"
      ]
     },
     "execution_count": 4,
     "metadata": {},
     "output_type": "execute_result"
    }
   ],
   "source": [
    "f = 'True'\n",
    "\n",
    "# Write code below to test whether whether f is the same as boolean True. Hint: replace the blank in the line below.\n",
    "f == True\n",
    "\n",
    "# explain why you get the result\n",
    "# the type of the f variable is a string, while True is a boolean. Since the two types are not the same, the result is a False."
   ]
  },
  {
   "cell_type": "markdown",
   "metadata": {},
   "source": [
    "## Task 2. (1 point)\n",
    "\n",
    "**Compute: 5 raised to the power of 6, added to 100, and the resulting sum divided by 5 ?**\n",
    "\n",
    "Pay attention to order of operations."
   ]
  },
  {
   "cell_type": "code",
   "execution_count": 5,
   "metadata": {},
   "outputs": [
    {
     "data": {
      "text/plain": [
       "3145.0"
      ]
     },
     "execution_count": 5,
     "metadata": {},
     "output_type": "execute_result"
    }
   ],
   "source": [
    "# Provide your answer in the following cell.\n",
    "(5 ** 6 + 100) / 5"
   ]
  },
  {
   "cell_type": "markdown",
   "metadata": {},
   "source": [
    "## Task 3. (1.5 points)\n",
    "\n",
    "**Ask user for a number, and print its cube**\n",
    "\n",
    "For this you can use a built-in function called **input()**. It has one parameter which it prints to the console, and awaits an input from the user, i.e. wait till user enters something and hits enter. So the argumnet to input() should be whatever you want to print out to prompt the user to enter something. This input from the user is always read in as a string.\n",
    "\n",
    "Your code must allow the user to enter integers or decimals. Then compute and print the cube of the int or float. \n",
    "\n",
    "No need to do any error-checking for non-numeric inputs.\n",
    "\n",
    "The output should be: `The cube of x is y` with x and y replaced with values.\\\n",
    "where x is the number the user input and y is its cube"
   ]
  },
  {
   "cell_type": "code",
   "execution_count": null,
   "metadata": {
    "scrolled": true
   },
   "outputs": [],
   "source": [
    "# write your code here\n",
    "x = int(input())\n",
    "y = int(x ** 3)\n",
    "print('The cube of', x, 'is', y)\n",
    "\n",
    "\n"
   ]
  },
  {
   "cell_type": "markdown",
   "metadata": {},
   "source": [
    "## Task 4. (3 points)"
   ]
  },
  {
   "cell_type": "markdown",
   "metadata": {},
   "source": [
    "**Create a <u>function</u> that has *two parameters* - and *returns* the count of the number of times the second parameter (a substring) occurs in the first parameter (a sentence).  Capitalization is important, so dog only matches dog but not DOg or doG. You may use built-in str methods.**\n",
    "\n",
    "**Call the function twice with the same first argument and a different second argument. The answer should not be printed in the function but returned.**\n",
    "\n",
    "Write your answer in the cells below.\n",
    "\n",
    "Note: you can use separate cells for each answer. If you want to print out multiple outputs from one cell, you have to use print() statements in order for the output to be visible."
   ]
  },
  {
   "cell_type": "code",
   "execution_count": 1,
   "metadata": {},
   "outputs": [
    {
     "name": "stdout",
     "output_type": "stream",
     "text": [
      "2\n",
      "0\n"
     ]
    }
   ],
   "source": [
    "# write the function here\n",
    "\n",
    "def func1(x, y):\n",
    "    return(x.count(y))\n",
    "\n",
    "\n",
    "# call the function with arguments \"Is data science a science?\" and \"science\" and print its answer\n",
    "print(func1('Is data science a science?', 'science'))\n",
    "\n",
    "# call the function with arguments \"Is data science a science?\" and \"DATA\" and print its answer\n",
    "print(func1('Is data science a science?', 'DATA'))"
   ]
  },
  {
   "cell_type": "markdown",
   "metadata": {},
   "source": [
    "## Task 5. (4 points)"
   ]
  },
  {
   "cell_type": "markdown",
   "metadata": {},
   "source": [
    "**Create a <u>function</u> that has *two parameters* - the first is a string to search and the second is the substring to find in the first string. This function *returns* True if the second string is contained in the first string, irrespective of case and capitalization, and False otherwise. You may use built-in str methods.** \n",
    "\n",
    "***ignore* any case and capitalization in the word searched for AND the string searched in (which means searching for DoG or dog should match DOG or dOg or dog etc.)**\n",
    "\n",
    "**Call the function thrice with the same first argument and different second argument. The answer should not be printed in the function but returned.**\n",
    "\n",
    "Write your answer in the cell below. \n",
    "Note: you can use separate cells for each answer. If you want to print out multiple outputs from one cell, you have to use print() statements in order for the output to be visible."
   ]
  },
  {
   "cell_type": "code",
   "execution_count": 2,
   "metadata": {},
   "outputs": [
    {
     "name": "stdout",
     "output_type": "stream",
     "text": [
      "2\n",
      "2\n",
      "0\n"
     ]
    }
   ],
   "source": [
    "# write the function here\n",
    "def func2(x, y):\n",
    "    x = x.lower()\n",
    "    y = y.lower()\n",
    "    return(x.count(y))\n",
    "\n",
    "\n",
    "# call the function with arguments \"Is Data Science a Science?\" and \"science\" and print its answer\n",
    "print(func2('Is Data Science a Science?', 'science'))\n",
    "\n",
    "# call the function with arguments \"Is Data Science a Science?\" and \"SCIENCE\"\n",
    "print(func2('Is Data Science a Science?', 'SCIENCE'))\n",
    "\n",
    "# call the function with arguments \"Is Data Science a Science?\" and \"Scientist\"\n",
    "print(func2('Is Data Science a Science?', 'Scientist'))\n",
    "\n"
   ]
  },
  {
   "cell_type": "markdown",
   "metadata": {},
   "source": [
    "## Task 6. (1.5 points)"
   ]
  },
  {
   "cell_type": "markdown",
   "metadata": {},
   "source": [
    "**Split this string and produce a list of two substrings both in upper case:**\n",
    "\n",
    "    \"It's a great day today, isn't it?\"\n",
    "\n",
    "Write code - use a string method -  in the cells below to print the list [\"IT'S A GREAT DAY TODAY\", \" ISN'T IT?\"] as output from the input string"
   ]
  },
  {
   "cell_type": "code",
   "execution_count": 3,
   "metadata": {},
   "outputs": [
    {
     "name": "stdout",
     "output_type": "stream",
     "text": [
      "[\"IT'S A GREAT DAY TODAY\", \" ISN'T IT?\"]\n"
     ]
    }
   ],
   "source": [
    "# define the string and obtain the new list\n",
    "txt = \"It's a great day today, isn't it?\"\n",
    "txt = txt.upper()\n",
    "print(txt.split(\",\"))\n"
   ]
  },
  {
   "cell_type": "markdown",
   "metadata": {
    "collapsed": true
   },
   "source": [
    "## Task 7. ( 3 points)"
   ]
  },
  {
   "cell_type": "markdown",
   "metadata": {},
   "source": [
    "**Create a *function* that accepts a string argument in the form of an email address, and *returns* the username and type of email domain extracted from the input.**\n",
    "\n",
    "Say the input is:\n",
    "\n",
    "    user@eccles.utah.edu\n",
    "    \n",
    "**Function would create and return the following string (note the single quotes in the output), which is then printed outside the function:**\n",
    "\n",
    "    Username is 'user' and domain type is 'edu'\n",
    "\n",
    "When the input is 'user@gmail.com' the function would return 'user' as username and 'com' as domain.\\\n",
    "See the cell below for how to embed values of variables in output"
   ]
  },
  {
   "cell_type": "code",
   "execution_count": 13,
   "metadata": {},
   "outputs": [
    {
     "name": "stdout",
     "output_type": "stream",
     "text": [
      "The result was produced at 10 am by John\n",
      "The result was produced at 10am by John\n",
      "The result was produced by John at 10am\n",
      "The result was produced at 10.00am by John\n"
     ]
    }
   ],
   "source": [
    "# How to embed values of variables in printed output? \n",
    "\n",
    "time = 10\n",
    "name = \"John\"\n",
    "\n",
    "#1. create appended strings on the fly by adding commas inside print - least flexible\n",
    "# as we cant specify additional formatting\n",
    "\n",
    "print(\"The result was produced at\", time, \"am by\", name)\n",
    "\n",
    "\n",
    "#2. Using the .format() method of strings \n",
    "\n",
    "# we can use {} as a placeholder where the value of the variables specified in format()\n",
    "# will be placed into in order.\n",
    "\n",
    "print(\"The result was produced at {}am by {}\".format(time, name))\n",
    "\n",
    "# alternately, if we dont want to keep the order, we can specify the variable whose value to use\n",
    "# using its index in format(). Have to specify all indices.\n",
    "\n",
    "print(\"The result was produced by {1} at {0}am\".format(time, name))\n",
    "\n",
    "# We can also specify additional formatting.\n",
    "# for example, to specify how to print a number, use p.df  \n",
    "##### where p is replaced with the total number of digits you want to print\n",
    "##### d is replaced with the number of decimals to show \n",
    "##### f stays as f- indicates a float\n",
    "\n",
    "print(\"The result was produced at {0:4.2f}am by {1}\".format(time, name))\n",
    "\n",
    "#Run this cell to see the outputs"
   ]
  },
  {
   "cell_type": "code",
   "execution_count": 4,
   "metadata": {},
   "outputs": [
    {
     "name": "stdout",
     "output_type": "stream",
     "text": [
      "Username is 'user' and domain type is 'edu'\n"
     ]
    }
   ],
   "source": [
    "#Write your answer here. Use any approach to print.\n",
    "\n",
    "# define the function here\n",
    "def func3(email):\n",
    "    username, domain = email.split(\"@\")\n",
    "    domain_type = domain.split(\".\")[-1]\n",
    "    return \"Username is '{}' and domain type is '{}'\".format(username, domain_type)\n",
    "\n",
    "# call the function and print the value returned\n",
    "print(func3(\"user@eccles.utah.edu\"))\n"
   ]
  },
  {
   "cell_type": "markdown",
   "metadata": {},
   "source": [
    "## Task 8. (1 point)"
   ]
  },
  {
   "cell_type": "markdown",
   "metadata": {},
   "source": [
    "**Given this nested list**\n",
    "\n",
    "    [20.7,-10,[5,7,8],[100.5,[True,True,['hello']],True,False],1,7]\n",
    "\n",
    "**use indexing to grab the word \"hello\" (as a string)**\n",
    "\n",
    "Write your answer in the cells below."
   ]
  },
  {
   "cell_type": "code",
   "execution_count": 5,
   "metadata": {},
   "outputs": [
    {
     "name": "stdout",
     "output_type": "stream",
     "text": [
      "['hello']\n"
     ]
    }
   ],
   "source": [
    "# define the list here\n",
    "x = [20.7,-10,[5,7,8],[100.5,[True,True,['hello']],True,False],1,7]\n",
    "\n",
    "# obtain and print just the word hello\n",
    "print(x[3][1][2])\n"
   ]
  },
  {
   "cell_type": "markdown",
   "metadata": {},
   "source": [
    "## Task 9. (2.5 points)"
   ]
  },
  {
   "cell_type": "markdown",
   "metadata": {},
   "source": [
    "**Given this nested dictionary**\n",
    "\n",
    "    {'id':[1,2,3,[4,5,6]], 'name': ('five','six','seven','eight'), 'age': 10}\n",
    "\n",
    "**How many items or elements are in this dict? Use a command to determine this.**\n",
    "\n",
    "**Print the keys of the dict.**\n",
    "\n",
    "**Obtain the word \"eight\" from the dict.**\n",
    "\n",
    "Write your answer in the cells below.\n",
    "Note: you can use separate cells for each answer. If you want to print out multiple outputs from one cell, you have to use print() statements in order for the output to be visible."
   ]
  },
  {
   "cell_type": "code",
   "execution_count": 7,
   "metadata": {},
   "outputs": [
    {
     "name": "stdout",
     "output_type": "stream",
     "text": [
      "3\n",
      "dict_keys(['id', 'name', 'age'])\n",
      "eight\n"
     ]
    }
   ],
   "source": [
    "# define the dict here\n",
    "d = {'id':[1,2,3,[4,5,6]], 'name': ('five','six','seven','eight'), 'age': 10}\n",
    "\n",
    "# how many elements in this dict? \n",
    "print(len(d))\n",
    "\n",
    "# obtain the keys of the dict\n",
    "print(d.keys())\n",
    "\n",
    "# obtain the word \"eight\" from the dict\n",
    "print(d['name'][3])\n"
   ]
  },
  {
   "cell_type": "markdown",
   "metadata": {},
   "source": [
    "## Task 10. (2 points)\n",
    "\n",
    "Explain what is happening in the below code. Please provide your answer to what is happening in a new cell as a comment or Markdown - your choice.\n",
    "\n",
    "To stop the code, you will need to hit square block button in the menu above to interrupt the kernel.\n",
    "\n",
    "Change the code so that the task will end when the value of i is 1, but only after printing the value 1.0\\\n",
    "Expected output is:\n",
    "\n",
    "10.0\\\n",
    "5.0\\\n",
    "6.0\\\n",
    "3.0\\\n",
    "4.0\\\n",
    "2.0\\\n",
    "1.0\n"
   ]
  },
  {
   "cell_type": "raw",
   "metadata": {},
   "source": [
    "i=10\n",
    "\n",
    "#while i>0:\n",
    "#    print(float(i))\n",
    "#    if i%2==0:\n",
    "#        i = i /2\n",
    "#    else:i = i + 1\n",
    "\n",
    "# the loop does not know when to end\n"
   ]
  },
  {
   "cell_type": "code",
   "execution_count": 8,
   "metadata": {},
   "outputs": [
    {
     "name": "stdout",
     "output_type": "stream",
     "text": [
      "10.0\n",
      "5.0\n",
      "6.0\n",
      "3.0\n",
      "4.0\n",
      "2.0\n",
      "1.0\n"
     ]
    }
   ],
   "source": [
    "# write your code that fixes the probem in the above loop\n",
    "i = 10\n",
    "\n",
    "while i > 0:\n",
    "    print(float(i))\n",
    "    if i == 1:\n",
    "        break\n",
    "    elif i % 2 == 0:\n",
    "         i = i / 2   \n",
    "    else:i = i + 1\n",
    "        "
   ]
  },
  {
   "cell_type": "markdown",
   "metadata": {},
   "source": [
    "## Task 11. (3 points)\n",
    "\n",
    "**You are driving a little too fast, and a police officer stops you. Write a function to determine what type of ticket you will get.**\n",
    "\n",
    "**This function has two parameters - X and is_birthday. X is the speed in mph and is_birthday is a boolean. Function has no return value, and prints the output in the function itself.**\n",
    "\n",
    "If your speed is 60 or less, the result is \"No Fine\". If speed is between 61 and 80 inclusive, the result is \"Small Fine\". If speed is 81 or more, the result is \"Large Fine\". Unless it is your birthday -- on your birthday, your speed can be 5 higher in all cases.\n",
    "\n",
    "<u>The function prints one of 6 possible results:</u>\n",
    "\n",
    "**If it is not the driver's birthday and their speed was X**\\\n",
    "\"your speed was Xmph, you will get: No Fine\" (if speed is 60 or less)\\\n",
    "\"your speed was Xmph, you will get: Small Fine\" (if speed is between 61 and 80 inclusive)\\\n",
    "\"your speed was Xmph, you will get: Large Fine\" (if speed is 81 or more)\n",
    "\n",
    "**If it is the driver's birthday and their speed was X**\\\n",
    "\"Happy birthday, your speed was Xmph, you will get: No Fine\" (if speed is 65 or less)\\\n",
    "\"Happy birthday, your speed was Xmph, you will get: Small Fine\" (if speed is between 66 and 85 inclusive)\\\n",
    "\"Happy birthday, your speed was Xmph, you will get: Large Fine\" (if speed is 86 or more)\n",
    "\n",
    "Write your answer below\n"
   ]
  },
  {
   "cell_type": "code",
   "execution_count": 9,
   "metadata": {},
   "outputs": [
    {
     "name": "stdout",
     "output_type": "stream",
     "text": [
      "Happy birthday, your speed was 81 mph, you will get:  Small Fine\n",
      "your speed was 81 mph, you will get:  Large Fine\n"
     ]
    }
   ],
   "source": [
    "# write the function in this cell\n",
    "def tix(x, is_birthday):\n",
    "    \n",
    "    if is_birthday == False:\n",
    "        if x <= 60:\n",
    "            ans = \"No Fine\"\n",
    "        elif (x > 60 and x < 81):\n",
    "            ans = \"Small Fine\"\n",
    "        elif x >= 81:\n",
    "            ans = \"Large Fine\"\n",
    "    \n",
    "        print(\"your speed was\", x, \"mph, you will get: \", ans)\n",
    "    \n",
    "    else:\n",
    "        if x <= 65:\n",
    "            ans = \"No Fine\"\n",
    "        elif (x > 65 and x < 86):\n",
    "            ans = \"Small Fine\"\n",
    "        elif x >= 86:\n",
    "            ans = \"Large Fine\"\n",
    "\n",
    "        print(\"Happy birthday, your speed was\", x, \"mph, you will get: \",ans)\n",
    "        \n",
    "\n",
    "# call the function with a speed of 81 and True for birthday\n",
    "tix(81, True)\n",
    "\n",
    "# call the function with a speed of 81 and False for birthday\n",
    "tix(81, False)"
   ]
  },
  {
   "cell_type": "markdown",
   "metadata": {},
   "source": [
    "## OPTIONAL TASK"
   ]
  },
  {
   "cell_type": "markdown",
   "metadata": {},
   "source": [
    "**In this task, you will use two useful built-in functions called map() and filter() to transform some data and then filter out only some items from that list that match some criterion.**\n",
    "\n",
    "**Given the below list of animal words :**\n",
    "\n",
    "    ['dog   ','    cat','rabbit   ','    duck','hamster', ' elephant ']\n",
    "\n",
    "**write code to take the above list and process it to print the following output of only animals ending with 't'.**\n",
    "\n",
    "    [(0,'elephant'),(1,'rabbit'), (2,'cat')]\n",
    "    \n",
    "**STEPS**\n",
    "- first remove all  whitespaces before and after each word using **map()**, convert the output to a list, and save as a new var\n",
    "- then keep only the words that end in 't' by applying **filter()** on the output from previous step, and again convert the output to another list, and save in another var\n",
    "- then sort in reverse order of length using **sorted()** the output list from previous step\n",
    "- create an enumeration using **enumerate()**, applied to  the output list from previous step"
   ]
  },
  {
   "cell_type": "code",
   "execution_count": 2,
   "metadata": {},
   "outputs": [],
   "source": [
    "# learn to use two new functions - map and filter that make use of lambda function/\n",
    "\n",
    "# Recall that lambda functions are used when we want to perform a quick task and \n",
    "# dont want to reuse that function again, so we create an anonymous function on the fly\n",
    "# lambda is defined as below\n",
    "     # lambda input(s) : expression(inputs)\n",
    "\n",
    "# MAP\n",
    "# The map() function is used to apply the same calculation on every element in a sequence\n",
    "# it is defined as below\n",
    "     # map (functionname, seq)\n",
    "         # where seq is a sequence\n",
    "         # functionname will be applied to each element in seq \n",
    "         # functionname can be a lambda function \n",
    "\n",
    "    # the map function does not return a sequence, rather it returns a map object\n",
    "    # you can call the list() method and give it a map object as an argument to create a list from the map object\n",
    "    # list(mapobject) produces a list\n",
    "\n",
    "#FILTER\n",
    "# The filter() function is used to filter a sequence seq using the functionname provided\n",
    "# i.e. it will only keep those values from the sequence where the functionname returns True \n",
    "# it is defined as below\n",
    "    # filter(functionname, seq)\n",
    "        # where seq is a sequence \n",
    "        # functionname can be a lambda function\n",
    "    \n",
    "    # the filter function does not return a sequence, rather it returns a filter object\n",
    "    # you can call the list() method and give it a filter object as an argument to create a list from the filter object\n",
    "    # list(filterobject) produces a list\n",
    "\n",
    "# we will see map and filter in other data science libraries, esp in Pandas."
   ]
  },
  {
   "cell_type": "code",
   "execution_count": 10,
   "metadata": {},
   "outputs": [
    {
     "name": "stdout",
     "output_type": "stream",
     "text": [
      "<enumerate object at 0x7fdc78d8ac80>\n"
     ]
    }
   ],
   "source": [
    "# define the sequence of animal words, as given above, here.\n",
    "alist = ['dog   ','    cat','rabbit   ','    duck','hamster', ' elephant ']\n",
    "\n",
    "# use map() to remove whitespace chars - use a lambda function for functionname, which then uses str.strip()\n",
    "# convert output from map() into a list\n",
    "amap = map(lambda alist: str.strip(alist), alist)\n",
    "\n",
    "# Use the list output from map() above, produce a filtered list where you only keep the stripped words that end in 't'. \n",
    "# USe a lambda function for functionname and write an expression that will checking whether the last letter is equal to 't'\n",
    "# so it will return True if last letter is 't'\n",
    "# convert output from filter() into a list\n",
    "\n",
    "amap = filter(lambda amap: amap.endswith('t'), amap)\n",
    "\n",
    "# apply sorted() and enumerate() to get the final output\n",
    "print(enumerate(sorted(amap, reverse = True)))"
   ]
  },
  {
   "cell_type": "markdown",
   "metadata": {},
   "source": [
    "# The end"
   ]
  },
  {
   "cell_type": "code",
   "execution_count": null,
   "metadata": {},
   "outputs": [],
   "source": []
  }
 ],
 "metadata": {
  "kernelspec": {
   "display_name": "Python 3 (ipykernel)",
   "language": "python",
   "name": "python3"
  },
  "language_info": {
   "codemirror_mode": {
    "name": "ipython",
    "version": 3
   },
   "file_extension": ".py",
   "mimetype": "text/x-python",
   "name": "python",
   "nbconvert_exporter": "python",
   "pygments_lexer": "ipython3",
   "version": "3.9.13"
  },
  "toc": {
   "base_numbering": 1,
   "nav_menu": {},
   "number_sections": false,
   "sideBar": true,
   "skip_h1_title": false,
   "title_cell": "Table of Contents",
   "title_sidebar": "Table of Contents",
   "toc_cell": false,
   "toc_position": {
    "height": "525.467px",
    "left": "34px",
    "top": "202.333px",
    "width": "165px"
   },
   "toc_section_display": true,
   "toc_window_display": true
  },
  "varInspector": {
   "cols": {
    "lenName": 16,
    "lenType": 16,
    "lenVar": 40
   },
   "kernels_config": {
    "python": {
     "delete_cmd_postfix": "",
     "delete_cmd_prefix": "del ",
     "library": "var_list.py",
     "varRefreshCmd": "print(var_dic_list())"
    },
    "r": {
     "delete_cmd_postfix": ") ",
     "delete_cmd_prefix": "rm(",
     "library": "var_list.r",
     "varRefreshCmd": "cat(var_dic_list()) "
    }
   },
   "oldHeight": 316.383334,
   "position": {
    "height": "40px",
    "left": "1141px",
    "right": "20px",
    "top": "197px",
    "width": "250px"
   },
   "types_to_exclude": [
    "module",
    "function",
    "builtin_function_or_method",
    "instance",
    "_Feature"
   ],
   "varInspector_section_display": "none",
   "window_display": false
  }
 },
 "nbformat": 4,
 "nbformat_minor": 1
}
